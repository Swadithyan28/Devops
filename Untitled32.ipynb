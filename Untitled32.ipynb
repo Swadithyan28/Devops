{
  "nbformat": 4,
  "nbformat_minor": 0,
  "metadata": {
    "colab": {
      "provenance": [],
      "authorship_tag": "ABX9TyMu91YeT/Q4NKLhFib6HsMP",
      "include_colab_link": true
    },
    "kernelspec": {
      "name": "python3",
      "display_name": "Python 3"
    },
    "language_info": {
      "name": "python"
    }
  },
  "cells": [
    {
      "cell_type": "markdown",
      "metadata": {
        "id": "view-in-github",
        "colab_type": "text"
      },
      "source": [
        "<a href=\"https://colab.research.google.com/github/Swadithyan28/Devops/blob/main/Untitled32.ipynb\" target=\"_parent\"><img src=\"https://colab.research.google.com/assets/colab-badge.svg\" alt=\"Open In Colab\"/></a>"
      ]
    },
    {
      "cell_type": "code",
      "source": [
        "number = int(input(\"Enter the number :\"))\n",
        "res=\"\"\n",
        "if  number %3 ==0:\n",
        "  res+=\"jugs\"\n",
        "if  number %5 ==0:\n",
        "  res+=\"mugs\"\n",
        "if number %7 ==0:\n",
        "  res+=\"pugs\"\n",
        "\n",
        "\n",
        "print(res)\n"
      ],
      "metadata": {
        "colab": {
          "base_uri": "https://localhost:8080/"
        },
        "id": "mRLgq37fSPYt",
        "outputId": "fdacfb6d-39df-4095-bd8b-94817899ee39"
      },
      "execution_count": 2,
      "outputs": [
        {
          "output_type": "stream",
          "name": "stdout",
          "text": [
            "Enter the number :5\n",
            "mugs\n"
          ]
        }
      ]
    },
    {
      "cell_type": "code",
      "source": [
        "number = int(input(\"Enter the number :\"))\n",
        "string = str(number)\n",
        "result =[]\n",
        "res=\"\"\n",
        "if  number %3 ==0:\n",
        "  result.append(\"jugs\")\n",
        "if  number %5 ==0:\n",
        "  result.append(\"mugs\")\n",
        "if number %7 ==0:\n",
        "  result.append(\"pugs\")\n",
        "\n",
        "for i in range(len(result)):\n",
        "  res += result.pop()\n",
        "print(res)\n"
      ],
      "metadata": {
        "colab": {
          "base_uri": "https://localhost:8080/"
        },
        "id": "i2FlVFIaSR-c",
        "outputId": "9040f5a5-3d05-4ef8-abfe-1a84fec1594d"
      },
      "execution_count": 4,
      "outputs": [
        {
          "output_type": "stream",
          "name": "stdout",
          "text": [
            "Enter the number :357\n",
            "pugsjugs\n"
          ]
        }
      ]
    },
    {
      "cell_type": "code",
      "source": [],
      "metadata": {
        "id": "i7wjOiTQScaC"
      },
      "execution_count": null,
      "outputs": []
    }
  ]
}